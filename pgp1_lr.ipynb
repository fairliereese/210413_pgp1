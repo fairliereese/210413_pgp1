{
 "cells": [
  {
   "cell_type": "markdown",
   "id": "electoral-garbage",
   "metadata": {},
   "source": [
    "# Analysis of long-read transcriptomes"
   ]
  },
  {
   "cell_type": "markdown",
   "id": "greenhouse-repeat",
   "metadata": {},
   "source": [
    "### Data pre-processing"
   ]
  },
  {
   "cell_type": "markdown",
   "id": "lightweight-accreditation",
   "metadata": {},
   "source": [
    "Run Minimap2, TranscriptClean, and TALON using `run_talon_tc.sh`"
   ]
  },
  {
   "cell_type": "markdown",
   "id": "thrown-input",
   "metadata": {},
   "source": [
    "Create TALON abundance file\n",
    "```bash \n",
    "db=talon/pgp1.db\n",
    "talon_abundance \\\n",
    "    --db $db \\\n",
    "    -a gencode_v29 \\\n",
    "    -b hg38 \\\n",
    "    --o talon/pgp1\n",
    "```\n",
    "\n",
    "Filter novel transcripts for reproducibility\n",
    "```bash\n",
    "db=talon/pgp1.db\n",
    "talon_filter_transcripts \\\n",
    "    --db $db \\\n",
    "    -a gencode_v29 \\\n",
    "    --maxFracA=0.5 \\\n",
    "    --minCount=5 \\\n",
    "    --minDatasets=2 \\\n",
    "    --o talon/pgp1_pass_list.csv\n",
    "```"
   ]
  },
  {
   "cell_type": "markdown",
   "id": "pressed-entry",
   "metadata": {},
   "source": [
    "### TSS"
   ]
  },
  {
   "cell_type": "markdown",
   "id": "potential-standing",
   "metadata": {},
   "source": [
    "Isolate reads that represent more confident 5' ends."
   ]
  },
  {
   "cell_type": "code",
   "execution_count": 8,
   "id": "designed-arizona",
   "metadata": {},
   "outputs": [
    {
     "name": "stderr",
     "output_type": "stream",
     "text": [
      "/Users/fairliereese/miniconda3/lib/python3.7/site-packages/anndata/_core/anndata.py:21: FutureWarning: pandas.core.index is deprecated and will be removed in a future version.  The public classes are available in the top-level namespace.\n",
      "  from pandas.core.index import RangeIndex\n"
     ]
    }
   ],
   "source": [
    "import pandas as pd\n",
    "import swan_vis as swan"
   ]
  },
  {
   "cell_type": "code",
   "execution_count": 5,
   "id": "innovative-flavor",
   "metadata": {},
   "outputs": [],
   "source": [
    "annot = 'talon/pgp1_talon_read_annot.tsv'"
   ]
  },
  {
   "cell_type": "code",
   "execution_count": 7,
   "id": "russian-state",
   "metadata": {},
   "outputs": [],
   "source": [
    "# limit the reads to those that represent putative 5' ends\n",
    "df = pd.read_csv(annot, sep='\\t')\n",
    "tss_df = df.loc[df.transcript_novelty.isin(['Known', 'NIC', 'NNC', 'ISM'])]\n",
    "tss_df = tss_df.loc[tss_df.ISM_subtype.isin(['None', 'Prefix', 'Both'])]\n",
    "tss_reads = tss_df.read_name.tolist()\n",
    "\n",
    "# tss\n",
    "fname = 'tss_read_names.txt'\n",
    "with open(fname, 'w') as ofile:\n",
    "    for r in tss_reads:\n",
    "        ofile.write(r+'\\n')"
   ]
  },
  {
   "cell_type": "markdown",
   "id": "broad-poland",
   "metadata": {},
   "source": [
    "Create a sam file with all the TSS reads from the merged BAM using picard tools `isolate_tss_reads.sh`"
   ]
  },
  {
   "cell_type": "markdown",
   "id": "genuine-insulin",
   "metadata": {},
   "source": [
    "Call TSSs using Diane's script\n",
    "```bash\n",
    "tss_dir=~/mortazavi_lab/bin/tss-annotation/long_read/\n",
    "python ${tss_dir}pacbio_to_tss.py \\\n",
    "    -i tss_reads.bam \\\n",
    "    --window-size=50 \\\n",
    "    --expression-threshold=2 \\\n",
    "    -o unfilt_tss.bed \\\n",
    "    -r \\\n",
    "    -n rev_tss.bw \\\n",
    "    -p fwd_tss.bw\n",
    "```"
   ]
  },
  {
   "cell_type": "markdown",
   "id": "surgical-queensland",
   "metadata": {},
   "source": [
    "### Swan"
   ]
  },
  {
   "cell_type": "markdown",
   "id": "public-editor",
   "metadata": {},
   "source": [
    "Swan config file"
   ]
  },
  {
   "cell_type": "code",
   "execution_count": 17,
   "id": "protecting-testing",
   "metadata": {},
   "outputs": [
    {
     "name": "stdout",
     "output_type": "stream",
     "text": [
      "\n",
      "Adding dataset annotation to the SwanGraph\n",
      "\n",
      "Adding dataset astro_1 to the SwanGraph\n",
      "\n",
      "Adding dataset astro_2 to the SwanGraph\n",
      "\n",
      "Adding dataset excite_neuron_1 to the SwanGraph\n",
      "\n",
      "Adding dataset excite_neuron_2 to the SwanGraph\n",
      "\n",
      "Adding dataset pgp1_1 to the SwanGraph\n",
      "\n",
      "Adding dataset pgp1_2 to the SwanGraph\n",
      "Saving graph as swan.p\n"
     ]
    }
   ],
   "source": [
    "annot = '/Users/fairliereese/mortazavi_lab/ref/gencode.v29/gencode.v29.SIRV.ERCC.annotation.gtf'\n",
    "\n",
    "# initialize SwanGraph\n",
    "sg = swan.SwanGraph()\n",
    "\n",
    "# add annotation GTF for reference\n",
    "sg.add_annotation(annot)\n",
    "\n",
    "# add transcript models from each dataset\n",
    "sg.add_datasets('swan_config.tsv')\n",
    "\n",
    "sg.save_graph('swan')"
   ]
  },
  {
   "cell_type": "markdown",
   "id": "informed-feeling",
   "metadata": {},
   "source": [
    "### TSS switching"
   ]
  },
  {
   "cell_type": "markdown",
   "id": "manual-click",
   "metadata": {},
   "source": [
    "### Isoform switching"
   ]
  },
  {
   "cell_type": "code",
   "execution_count": 18,
   "id": "auburn-gardening",
   "metadata": {},
   "outputs": [],
   "source": [
    "import pandas as pd\n",
    "import seaborn as sns\n",
    "import matplotlib.pyplot as plt\n",
    "import scanpy as sc\n",
    "import numpy as np\n",
    "import anndata\n",
    "import scipy.stats as st\n",
    "import statsmodels.stats as stm\n",
    "from statsmodels.stats.multitest import multipletests"
   ]
  },
  {
   "cell_type": "code",
   "execution_count": null,
   "id": "municipal-waste",
   "metadata": {},
   "outputs": [],
   "source": []
  },
  {
   "cell_type": "code",
   "execution_count": 98,
   "id": "controversial-bicycle",
   "metadata": {},
   "outputs": [],
   "source": [
    "pass_list = 'talon/pgp1_pass_list.csv'\n",
    "ab_file = 'talon/pgp1_talon_abundance.tsv'\n",
    "cond_map = {'Astrocytes': ['astro_1', 'astro_2'], \\\n",
    "            'Excitatory neurons': ['excite_neuron_1', 'excite_neuron_2'], \\\n",
    "            'PGP1': ['pgp1_1', 'pgp1_2']}\n",
    "# adata = make_adata(ab_file, pass_list, cond_map)"
   ]
  },
  {
   "cell_type": "code",
   "execution_count": 99,
   "id": "fourth-wedding",
   "metadata": {},
   "outputs": [],
   "source": [
    "df = pd.read_csv(ab_file, sep='\\t')\n",
    "pass_list = pd.read_csv(pass_list, header=None, names=['gene_id', 'transcript_id'])\n",
    "\n",
    "df = df.loc[df.transcript_ID.isin(pass_list.transcript_id.tolist())]"
   ]
  },
  {
   "cell_type": "code",
   "execution_count": 100,
   "id": "adolescent-poison",
   "metadata": {},
   "outputs": [
    {
     "name": "stdout",
     "output_type": "stream",
     "text": [
      "40231\n",
      "40231\n"
     ]
    }
   ],
   "source": [
    "print(len(pass_list.index))\n",
    "print(len(df.index))\n",
    "\n",
    "obs = pd.DataFrame.from_dict(cond_map, orient='index')\n",
    "obs.reset_index(inplace=True)\n",
    "# obs = obs.melt()"
   ]
  },
  {
   "cell_type": "code",
   "execution_count": 101,
   "id": "pregnant-berry",
   "metadata": {},
   "outputs": [],
   "source": [
    "obs.head()\n",
    "id_vars = ['index']\n",
    "value_vars = obs.columns[1:]\n",
    "obs = obs.melt(id_vars=id_vars, value_vars=value_vars)"
   ]
  },
  {
   "cell_type": "code",
   "execution_count": 102,
   "id": "quarterly-revolution",
   "metadata": {},
   "outputs": [],
   "source": [
    "obs.drop('variable', axis=1, inplace=True)\n",
    "obs.rename({'index':'condition', 'value':'dataset'}, axis=1, inplace=True)"
   ]
  },
  {
   "cell_type": "code",
   "execution_count": 103,
   "id": "permanent-valve",
   "metadata": {},
   "outputs": [
    {
     "data": {
      "text/html": [
       "<div>\n",
       "<style scoped>\n",
       "    .dataframe tbody tr th:only-of-type {\n",
       "        vertical-align: middle;\n",
       "    }\n",
       "\n",
       "    .dataframe tbody tr th {\n",
       "        vertical-align: top;\n",
       "    }\n",
       "\n",
       "    .dataframe thead th {\n",
       "        text-align: right;\n",
       "    }\n",
       "</style>\n",
       "<table border=\"1\" class=\"dataframe\">\n",
       "  <thead>\n",
       "    <tr style=\"text-align: right;\">\n",
       "      <th></th>\n",
       "      <th>condition</th>\n",
       "      <th>dataset</th>\n",
       "    </tr>\n",
       "  </thead>\n",
       "  <tbody>\n",
       "    <tr>\n",
       "      <th>0</th>\n",
       "      <td>Astrocytes</td>\n",
       "      <td>astro_1</td>\n",
       "    </tr>\n",
       "    <tr>\n",
       "      <th>1</th>\n",
       "      <td>Excitatory neurons</td>\n",
       "      <td>excite_neuron_1</td>\n",
       "    </tr>\n",
       "    <tr>\n",
       "      <th>2</th>\n",
       "      <td>PGP1</td>\n",
       "      <td>pgp1_1</td>\n",
       "    </tr>\n",
       "    <tr>\n",
       "      <th>3</th>\n",
       "      <td>Astrocytes</td>\n",
       "      <td>astro_2</td>\n",
       "    </tr>\n",
       "    <tr>\n",
       "      <th>4</th>\n",
       "      <td>Excitatory neurons</td>\n",
       "      <td>excite_neuron_2</td>\n",
       "    </tr>\n",
       "    <tr>\n",
       "      <th>5</th>\n",
       "      <td>PGP1</td>\n",
       "      <td>pgp1_2</td>\n",
       "    </tr>\n",
       "  </tbody>\n",
       "</table>\n",
       "</div>"
      ],
      "text/plain": [
       "            condition          dataset\n",
       "0          Astrocytes          astro_1\n",
       "1  Excitatory neurons  excite_neuron_1\n",
       "2                PGP1           pgp1_1\n",
       "3          Astrocytes          astro_2\n",
       "4  Excitatory neurons  excite_neuron_2\n",
       "5                PGP1           pgp1_2"
      ]
     },
     "execution_count": 103,
     "metadata": {},
     "output_type": "execute_result"
    }
   ],
   "source": [
    "obs"
   ]
  },
  {
   "cell_type": "code",
   "execution_count": 104,
   "id": "horizontal-termination",
   "metadata": {},
   "outputs": [
    {
     "data": {
      "text/html": [
       "<div>\n",
       "<style scoped>\n",
       "    .dataframe tbody tr th:only-of-type {\n",
       "        vertical-align: middle;\n",
       "    }\n",
       "\n",
       "    .dataframe tbody tr th {\n",
       "        vertical-align: top;\n",
       "    }\n",
       "\n",
       "    .dataframe thead th {\n",
       "        text-align: right;\n",
       "    }\n",
       "</style>\n",
       "<table border=\"1\" class=\"dataframe\">\n",
       "  <thead>\n",
       "    <tr style=\"text-align: right;\">\n",
       "      <th></th>\n",
       "      <th>annot_transcript_id</th>\n",
       "      <th>annot_gene_id</th>\n",
       "      <th>gene_ID</th>\n",
       "      <th>transcript_ID</th>\n",
       "      <th>transcript_novelty</th>\n",
       "      <th>ISM_subtype</th>\n",
       "    </tr>\n",
       "  </thead>\n",
       "  <tbody>\n",
       "    <tr>\n",
       "      <th>0</th>\n",
       "      <td>ENST00000469289.1</td>\n",
       "      <td>ENSG00000243485.5</td>\n",
       "      <td>4</td>\n",
       "      <td>6</td>\n",
       "      <td>Known</td>\n",
       "      <td>None</td>\n",
       "    </tr>\n",
       "    <tr>\n",
       "      <th>1</th>\n",
       "      <td>ENST00000417324.1</td>\n",
       "      <td>ENSG00000237613.2</td>\n",
       "      <td>6</td>\n",
       "      <td>8</td>\n",
       "      <td>Known</td>\n",
       "      <td>None</td>\n",
       "    </tr>\n",
       "    <tr>\n",
       "      <th>2</th>\n",
       "      <td>ENST00000461467.1</td>\n",
       "      <td>ENSG00000237613.2</td>\n",
       "      <td>6</td>\n",
       "      <td>9</td>\n",
       "      <td>Known</td>\n",
       "      <td>None</td>\n",
       "    </tr>\n",
       "    <tr>\n",
       "      <th>3</th>\n",
       "      <td>ENST00000442987.3</td>\n",
       "      <td>ENSG00000233750.3</td>\n",
       "      <td>12</td>\n",
       "      <td>21</td>\n",
       "      <td>Known</td>\n",
       "      <td>None</td>\n",
       "    </tr>\n",
       "    <tr>\n",
       "      <th>4</th>\n",
       "      <td>ENST00000494149.2</td>\n",
       "      <td>ENSG00000268903.1</td>\n",
       "      <td>13</td>\n",
       "      <td>22</td>\n",
       "      <td>Known</td>\n",
       "      <td>None</td>\n",
       "    </tr>\n",
       "  </tbody>\n",
       "</table>\n",
       "</div>"
      ],
      "text/plain": [
       "  annot_transcript_id      annot_gene_id  gene_ID  transcript_ID  \\\n",
       "0   ENST00000469289.1  ENSG00000243485.5        4              6   \n",
       "1   ENST00000417324.1  ENSG00000237613.2        6              8   \n",
       "2   ENST00000461467.1  ENSG00000237613.2        6              9   \n",
       "3   ENST00000442987.3  ENSG00000233750.3       12             21   \n",
       "4   ENST00000494149.2  ENSG00000268903.1       13             22   \n",
       "\n",
       "  transcript_novelty ISM_subtype  \n",
       "0              Known        None  \n",
       "1              Known        None  \n",
       "2              Known        None  \n",
       "3              Known        None  \n",
       "4              Known        None  "
      ]
     },
     "execution_count": 104,
     "metadata": {},
     "output_type": "execute_result"
    }
   ],
   "source": [
    "# var table\n",
    "var_cols = ['annot_transcript_id', 'annot_gene_id', \\\n",
    "             'gene_ID', 'transcript_ID', 'transcript_novelty', \\\n",
    "             'ISM_subtype']\n",
    "var = df[var_cols]\n",
    "var.head()\n",
    "var.head()"
   ]
  },
  {
   "cell_type": "code",
   "execution_count": 105,
   "id": "professional-prescription",
   "metadata": {},
   "outputs": [],
   "source": [
    "# X\n",
    "df = df.transpose()"
   ]
  },
  {
   "cell_type": "code",
   "execution_count": 106,
   "id": "increased-scale",
   "metadata": {},
   "outputs": [],
   "source": [
    "df = df.loc[df.index.isin(obs.dataset.tolist())]\n",
    "X = df.to_numpy()"
   ]
  },
  {
   "cell_type": "code",
   "execution_count": 107,
   "id": "virtual-terror",
   "metadata": {},
   "outputs": [
    {
     "name": "stderr",
     "output_type": "stream",
     "text": [
      "Transforming to str index.\n",
      "Transforming to str index.\n"
     ]
    }
   ],
   "source": [
    "adata = anndata.AnnData(obs=obs, var=var, X=X)"
   ]
  },
  {
   "cell_type": "code",
   "execution_count": null,
   "id": "tribal-stack",
   "metadata": {},
   "outputs": [],
   "source": [
    "def make_adata(ab_file, pass_list, cond_map):\n",
    "    \n",
    "    # filter talon ab file based on pass list\n",
    "    df = pd.read_csv(ab_file, sep='\\t')\n",
    "    pass_list = pd.read_csv(pass_list, header=None, names=['gene_id', 'transcript_id'])\n",
    "    df = df.loc[df.transcript_ID.isin(pass_list.transcript_id.tolist())]\n",
    "    \n",
    "    # make obs table\n",
    "    obs = pd.DataFrame.from_dict(cond_map, orient='index')\n",
    "    obs.reset_index(inplace=True)"
   ]
  },
  {
   "cell_type": "code",
   "execution_count": 96,
   "id": "entire-forum",
   "metadata": {},
   "outputs": [],
   "source": [
    "adata = sc.read('/Users/fairliereese/mortazavi_lab/data/c2c12_paper_2020/sc_pacbio/201218/scanpy/gene.h5ad')"
   ]
  },
  {
   "cell_type": "code",
   "execution_count": 97,
   "id": "patent-heritage",
   "metadata": {},
   "outputs": [
    {
     "data": {
      "text/html": [
       "<div>\n",
       "<style scoped>\n",
       "    .dataframe tbody tr th:only-of-type {\n",
       "        vertical-align: middle;\n",
       "    }\n",
       "\n",
       "    .dataframe tbody tr th {\n",
       "        vertical-align: top;\n",
       "    }\n",
       "\n",
       "    .dataframe thead th {\n",
       "        text-align: right;\n",
       "    }\n",
       "</style>\n",
       "<table border=\"1\" class=\"dataframe\">\n",
       "  <thead>\n",
       "    <tr style=\"text-align: right;\">\n",
       "      <th></th>\n",
       "      <th>gene_symbols</th>\n",
       "    </tr>\n",
       "  </thead>\n",
       "  <tbody>\n",
       "    <tr>\n",
       "      <th>Gnai3</th>\n",
       "      <td>ENSMUSG00000000001.4</td>\n",
       "    </tr>\n",
       "    <tr>\n",
       "      <th>Cdc45</th>\n",
       "      <td>ENSMUSG00000000028.15</td>\n",
       "    </tr>\n",
       "    <tr>\n",
       "      <th>H19</th>\n",
       "      <td>ENSMUSG00000000031.16</td>\n",
       "    </tr>\n",
       "    <tr>\n",
       "      <th>Scml2</th>\n",
       "      <td>ENSMUSG00000000037.16</td>\n",
       "    </tr>\n",
       "    <tr>\n",
       "      <th>Apoh</th>\n",
       "      <td>ENSMUSG00000000049.11</td>\n",
       "    </tr>\n",
       "  </tbody>\n",
       "</table>\n",
       "</div>"
      ],
      "text/plain": [
       "                gene_symbols\n",
       "Gnai3   ENSMUSG00000000001.4\n",
       "Cdc45  ENSMUSG00000000028.15\n",
       "H19    ENSMUSG00000000031.16\n",
       "Scml2  ENSMUSG00000000037.16\n",
       "Apoh   ENSMUSG00000000049.11"
      ]
     },
     "execution_count": 97,
     "metadata": {},
     "output_type": "execute_result"
    }
   ],
   "source": [
    "adata.var.head()"
   ]
  },
  {
   "cell_type": "code",
   "execution_count": null,
   "id": "historic-commons",
   "metadata": {},
   "outputs": [],
   "source": []
  }
 ],
 "metadata": {
  "kernelspec": {
   "display_name": "Python 3",
   "language": "python",
   "name": "python3"
  },
  "language_info": {
   "codemirror_mode": {
    "name": "ipython",
    "version": 3
   },
   "file_extension": ".py",
   "mimetype": "text/x-python",
   "name": "python",
   "nbconvert_exporter": "python",
   "pygments_lexer": "ipython3",
   "version": "3.7.4"
  }
 },
 "nbformat": 4,
 "nbformat_minor": 5
}
